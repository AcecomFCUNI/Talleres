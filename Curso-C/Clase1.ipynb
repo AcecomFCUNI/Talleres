{
 "cells": [
  {
   "cell_type": "markdown",
   "metadata": {},
   "source": [
    "## 1. Introducción a linux\n",
    "\n",
    "### 1.1 ¿Qué es Linux?\n",
    "\n",
    "LINUX (o [GNU](https://www.gnu.org/gnu/gnu-history.es.html)/[LINUX](https://www.ibiblio.org/pub/linux/docs/LuCaS/Cursos/distro/basico/html/node4.html) , más correctamente) es un Sistema Operativo como MacOS, DOS o Windows. Es decir, Linux es el software necesario para que tu ordenador te permita utilizar programas como: editores de texto, juegos, navegadores de Internet, etc. Linux puede usarse mediante un interfaz gráfico al igual que Windows o MacOS, pero también puede usarse mediante línea de comandos como DOS.\n",
    "\n",
    "Linux tiene su origen en Unix. Éste apareció en los años sesenta, desarrollado por los investigadores Dennis Ritchie y Ken Thompson, de los Laboratorios Telefónicos Bell.\n",
    "\n",
    "Andrew Tanenbaum desarrolló un sistema operativo parecido a Unix (llamado Minix) para enseñar a sus alumnos el diseño de un sistema operativo. Debido al enfoque docente de Minix, Tanenbaum nunca permitió que éste fuera modificado, ya que podrían introducirse complicaciones en el sistema para sus alumnos.\n",
    "Un estudiante finlandés llamado [Linus Torvalds](https://www.ibiblio.org/pub/linux/docs/LuCaS/Cursos/distro/basico/html/node4.html), constatando que no era posible extender Minix, decidió escribir su propio sistema operativo compatible con Unix.\n",
    "\n",
    "En aquellos momentos el proyecto GNU, que [Richard Stallman](https://aspgems.com/blog/ansueta/la-libertad-y-el-usuario-las-4-libertades-esenciales-del-software-libre-segun-richard) había iniciado hacía ya casi diez años, comprendía un sistema básico casi completo. La excepción más importante era el kernel o núcleo, que controla el hardware.\n",
    "\n",
    "Torvalds decidió aprovechar el sistema GNU y completarlo con su propio núcleo, que bautizó como Linux. El sistema conjunto (herramientas GNU y núcleo Linux) forma lo que llamamos GNU/Linux.\n",
    "\n",
    "\n",
    "<center>\n",
    "<a title=\"Linux\" href=\"https://multimediaman.files.wordpress.com/2014/12/linus-torvalds-and-the-linux-logo.jpg\"><img src=\"https://multimediaman.files.wordpress.com/2014/12/linus-torvalds-and-the-linux-logo.jpg\" width=\"800\" alt=\"Linus Torvalds\" title=\"Linux\" /></a>\n",
    "</center>\n",
    "\n",
    "\n",
    "### 1.2 Comandos Básicos\n",
    "#### 1.2.1 Comandos Simples\n",
    "\n",
    "Abrir un terminal y colocar los siguientes comandos.\n",
    "\n",
    "* __date__ muestra la fecha actual."
   ]
  },
  {
   "cell_type": "code",
   "execution_count": 1,
   "metadata": {
    "collapsed": false
   },
   "outputs": [
    {
     "name": "stdout",
     "output_type": "stream",
     "text": [
      "lun ene 30 13:39:33 PET 2017\n"
     ]
    }
   ],
   "source": [
    "date"
   ]
  },
  {
   "cell_type": "markdown",
   "metadata": {},
   "source": [
    "* __cal__ muestra el mes actual."
   ]
  },
  {
   "cell_type": "code",
   "execution_count": 2,
   "metadata": {
    "collapsed": false
   },
   "outputs": [
    {
     "name": "stdout",
     "output_type": "stream",
     "text": [
      "     Enero 2017       \n",
      "do lu ma mi ju vi sá  \n",
      " 1  2  3  4  5  6  7  \n",
      " 8  9 10 11 12 13 14  \n",
      "15 16 17 18 19 20 21  \n",
      "22 23 24 25 26 27 28  \n",
      "29 \u001b[7m30\u001b[27m 31              \n",
      "                      \n"
     ]
    }
   ],
   "source": [
    "cal"
   ]
  },
  {
   "cell_type": "markdown",
   "metadata": {},
   "source": [
    "* __echo__ imprime cadenas en el terminal."
   ]
  },
  {
   "cell_type": "code",
   "execution_count": 3,
   "metadata": {
    "collapsed": false
   },
   "outputs": [
    {
     "name": "stdout",
     "output_type": "stream",
     "text": [
      "Acecom\n"
     ]
    }
   ],
   "source": [
    "echo \"Acecom\""
   ]
  },
  {
   "cell_type": "markdown",
   "metadata": {},
   "source": [
    "* __exit__ termina la sesión y cierra la ventana del terminal."
   ]
  },
  {
   "cell_type": "code",
   "execution_count": 4,
   "metadata": {
    "collapsed": false
   },
   "outputs": [
    {
     "name": "stdout",
     "output_type": "stream",
     "text": [
      "exit\n",
      "Restarting Bash"
     ]
    }
   ],
   "source": [
    "exit"
   ]
  },
  {
   "cell_type": "markdown",
   "metadata": {},
   "source": [
    "#### 1.2.2 Navegación\n",
    "\n",
    "* __pwd__ imprime el nombre del directorio de trabajo actual."
   ]
  },
  {
   "cell_type": "code",
   "execution_count": 5,
   "metadata": {
    "collapsed": false
   },
   "outputs": [
    {
     "name": "stdout",
     "output_type": "stream",
     "text": [
      "/home/roggerv\n"
     ]
    }
   ],
   "source": [
    "pwd"
   ]
  },
  {
   "cell_type": "markdown",
   "metadata": {},
   "source": [
    "* __cd__ cambia el directorio."
   ]
  },
  {
   "cell_type": "code",
   "execution_count": 6,
   "metadata": {
    "collapsed": true
   },
   "outputs": [],
   "source": [
    "cd Documentos/"
   ]
  },
  {
   "cell_type": "code",
   "execution_count": 7,
   "metadata": {
    "collapsed": false
   },
   "outputs": [
    {
     "name": "stdout",
     "output_type": "stream",
     "text": [
      "/home/roggerv/Documentos\n"
     ]
    }
   ],
   "source": [
    "pwd"
   ]
  },
  {
   "cell_type": "markdown",
   "metadata": {},
   "source": [
    "* __ls__ lista el contenido del directorio."
   ]
  },
  {
   "cell_type": "code",
   "execution_count": 8,
   "metadata": {
    "collapsed": false,
    "scrolled": true
   },
   "outputs": [
    {
     "name": "stdout",
     "output_type": "stream",
     "text": [
      "\u001b[0m\u001b[01;34marchivos\u001b[0m  \u001b[01;34mprogramas\u001b[0m  \u001b[01;34mUnreal Projects\u001b[0m\n"
     ]
    }
   ],
   "source": [
    "ls"
   ]
  },
  {
   "cell_type": "code",
   "execution_count": 9,
   "metadata": {
    "collapsed": false
   },
   "outputs": [
    {
     "name": "stdout",
     "output_type": "stream",
     "text": [
      "clase1.ipynb  \u001b[0m\u001b[01;34mDocumentos\u001b[0m  \u001b[01;34mImágenes\u001b[0m  octave-workspace  \u001b[01;34mPúblico\u001b[0m  \u001b[01;34mVídeos\u001b[0m\n",
      "\u001b[01;34mDescargas\u001b[0m     \u001b[01;34mEscritorio\u001b[0m  \u001b[01;34mMúsica\u001b[0m    \u001b[01;34mPlantillas\u001b[0m        \u001b[01;34mR\u001b[0m\n"
     ]
    }
   ],
   "source": [
    "cd\n",
    "ls"
   ]
  },
  {
   "cell_type": "markdown",
   "metadata": {},
   "source": [
    "#### 1.2.3 Exploración del Sistema\n",
    "\n",
    "* __ls__ se puede especificar un directorio para listar."
   ]
  },
  {
   "cell_type": "code",
   "execution_count": 10,
   "metadata": {
    "collapsed": false
   },
   "outputs": [
    {
     "name": "stdout",
     "output_type": "stream",
     "text": [
      "\u001b[0m\u001b[01;34mbin\u001b[0m  \u001b[01;34mgames\u001b[0m  \u001b[01;34minclude\u001b[0m  \u001b[01;34mlib\u001b[0m  \u001b[01;34mlocal\u001b[0m  \u001b[01;34msbin\u001b[0m  \u001b[01;34mshare\u001b[0m  \u001b[01;34msrc\u001b[0m\n"
     ]
    }
   ],
   "source": [
    "ls /usr/"
   ]
  },
  {
   "cell_type": "markdown",
   "metadata": {},
   "source": [
    "* __file__ imprime una breve descripción del archivo."
   ]
  },
  {
   "cell_type": "code",
   "execution_count": 11,
   "metadata": {
    "collapsed": false
   },
   "outputs": [
    {
     "name": "stdout",
     "output_type": "stream",
     "text": [
      "clase1.ipynb: UTF-8 Unicode text, with very long lines\n"
     ]
    }
   ],
   "source": [
    "file clase1.ipynb"
   ]
  },
  {
   "cell_type": "markdown",
   "metadata": {},
   "source": [
    "* __cat__ permite ver un archivo de texto desde el terminal."
   ]
  },
  {
   "cell_type": "code",
   "execution_count": 12,
   "metadata": {
    "collapsed": false
   },
   "outputs": [
    {
     "name": "stdout",
     "output_type": "stream",
     "text": [
      "Hola mundo\n"
     ]
    }
   ],
   "source": [
    "touch hola.txt\n",
    "echo \"Hola mundo\" > hola.txt\n",
    "cat hola.txt"
   ]
  },
  {
   "cell_type": "markdown",
   "metadata": {
    "collapsed": true
   },
   "source": [
    "#### 1.2.4 Manipulación de Archivos y Directorios\n",
    "\n",
    "* __mkdir__ Crea directorios."
   ]
  },
  {
   "cell_type": "code",
   "execution_count": 13,
   "metadata": {
    "collapsed": false
   },
   "outputs": [
    {
     "name": "stdout",
     "output_type": "stream",
     "text": [
      "clase1.ipynb  \u001b[0m\u001b[01;34mDir1\u001b[0m  \u001b[01;34mDocumentos\u001b[0m  hola.txt  \u001b[01;34mMúsica\u001b[0m            \u001b[01;34mPlantillas\u001b[0m  \u001b[01;34mR\u001b[0m\n",
      "\u001b[01;34mDescargas\u001b[0m     \u001b[01;34mDir2\u001b[0m  \u001b[01;34mEscritorio\u001b[0m  \u001b[01;34mImágenes\u001b[0m  octave-workspace  \u001b[01;34mPúblico\u001b[0m     \u001b[01;34mVídeos\u001b[0m\n"
     ]
    }
   ],
   "source": [
    "mkdir Dir1 Dir2\n",
    "ls"
   ]
  },
  {
   "cell_type": "markdown",
   "metadata": {},
   "source": [
    "* __cp__ copia archivos o directorios."
   ]
  },
  {
   "cell_type": "code",
   "execution_count": 14,
   "metadata": {
    "collapsed": false
   },
   "outputs": [
    {
     "name": "stdout",
     "output_type": "stream",
     "text": [
      "hola.txt\n"
     ]
    }
   ],
   "source": [
    "cp hola.txt Dir1\n",
    "ls Dir1"
   ]
  },
  {
   "cell_type": "code",
   "execution_count": 15,
   "metadata": {
    "collapsed": false
   },
   "outputs": [
    {
     "name": "stdout",
     "output_type": "stream",
     "text": [
      "copia.txt  hola.txt\n"
     ]
    }
   ],
   "source": [
    "cp hola.txt Dir1/copia.txt\n",
    "ls Dir1"
   ]
  },
  {
   "cell_type": "markdown",
   "metadata": {},
   "source": [
    "* __mv__ mueve o renombra un archivo."
   ]
  },
  {
   "cell_type": "code",
   "execution_count": 16,
   "metadata": {
    "collapsed": false
   },
   "outputs": [
    {
     "name": "stdout",
     "output_type": "stream",
     "text": [
      "clase1.ipynb  \u001b[0m\u001b[01;34mDir2\u001b[0m        hola.txt  octave-workspace  \u001b[01;34mR\u001b[0m\n",
      "\u001b[01;34mDescargas\u001b[0m     \u001b[01;34mDocumentos\u001b[0m  \u001b[01;34mImágenes\u001b[0m  \u001b[01;34mPlantillas\u001b[0m        texto2.txt\n",
      "\u001b[01;34mDir1\u001b[0m          \u001b[01;34mEscritorio\u001b[0m  \u001b[01;34mMúsica\u001b[0m    \u001b[01;34mPúblico\u001b[0m           \u001b[01;34mVídeos\u001b[0m\n"
     ]
    }
   ],
   "source": [
    "touch texto.txt\n",
    "mv texto.txt texto2.txt\n",
    "ls"
   ]
  },
  {
   "cell_type": "code",
   "execution_count": 17,
   "metadata": {
    "collapsed": false
   },
   "outputs": [
    {
     "name": "stdout",
     "output_type": "stream",
     "text": [
      "copia.txt  hola.txt  texto2.txt\n"
     ]
    }
   ],
   "source": [
    "mv texto2.txt Dir1\n",
    "ls Dir1"
   ]
  },
  {
   "cell_type": "code",
   "execution_count": 18,
   "metadata": {
    "collapsed": false
   },
   "outputs": [
    {
     "name": "stdout",
     "output_type": "stream",
     "text": [
      "clase1.ipynb  \u001b[0m\u001b[01;34mDir1\u001b[0m  \u001b[01;34mDocumentos\u001b[0m  hola.txt  \u001b[01;34mMúsica\u001b[0m            \u001b[01;34mPlantillas\u001b[0m  \u001b[01;34mR\u001b[0m\n",
      "\u001b[01;34mDescargas\u001b[0m     \u001b[01;34mDir2\u001b[0m  \u001b[01;34mEscritorio\u001b[0m  \u001b[01;34mImágenes\u001b[0m  octave-workspace  \u001b[01;34mPúblico\u001b[0m     \u001b[01;34mVídeos\u001b[0m\n"
     ]
    }
   ],
   "source": [
    "ls"
   ]
  },
  {
   "cell_type": "markdown",
   "metadata": {},
   "source": [
    "* __rm__ elimina archivos y directorios."
   ]
  },
  {
   "cell_type": "code",
   "execution_count": 19,
   "metadata": {
    "collapsed": false
   },
   "outputs": [
    {
     "name": "stdout",
     "output_type": "stream",
     "text": [
      "copia.txt  hola.txt\n"
     ]
    }
   ],
   "source": [
    "rm Dir1/texto2.txt\n",
    "ls Dir1"
   ]
  },
  {
   "cell_type": "code",
   "execution_count": 20,
   "metadata": {
    "collapsed": false
   },
   "outputs": [
    {
     "name": "stdout",
     "output_type": "stream",
     "text": [
      "clase1.ipynb  \u001b[0m\u001b[01;34mDocumentos\u001b[0m  \u001b[01;34mImágenes\u001b[0m          \u001b[01;34mPlantillas\u001b[0m  \u001b[01;34mVídeos\u001b[0m\n",
      "\u001b[01;34mDescargas\u001b[0m     \u001b[01;34mEscritorio\u001b[0m  \u001b[01;34mMúsica\u001b[0m            \u001b[01;34mPúblico\u001b[0m\n",
      "\u001b[01;34mDir2\u001b[0m          hola.txt    octave-workspace  \u001b[01;34mR\u001b[0m\n"
     ]
    }
   ],
   "source": [
    "rm -r Dir1\n",
    "ls"
   ]
  },
  {
   "cell_type": "markdown",
   "metadata": {},
   "source": [
    "#### 1.2.5 Estructura de los archivos en linux\n",
    "\n",
    "<center>\n",
    "<a title=\"Files\" href=\"http://i.blogs.es/b8d024/linux-file-system-hierarchy-linux-file-structure-optimized/original.jpg\"><img src=\"http://i.blogs.es/b8d024/linux-file-system-hierarchy-linux-file-structure-optimized/original.jpg\" width=\"800\" alt=\"Files\" title=\"Files\" /></a>\n",
    "</center>"
   ]
  },
  {
   "cell_type": "markdown",
   "metadata": {
    "collapsed": true
   },
   "source": [
    "#### 1.2.6 Comandos Comunes\n",
    "\n",
    "<center>\n",
    "<a title=\"Comandos\" href=\"http://learntocodewith.me/wp-content/uploads/2014/05/command-cheat-sheet.jpg\"><img src=\"http://learntocodewith.me/wp-content/uploads/2014/05/command-cheat-sheet.jpg\" width=\"600\" alt=\"Files\" title=\"Comandos\" /></a>\n",
    "</center>"
   ]
  }
 ],
 "metadata": {
  "kernelspec": {
   "display_name": "Bash",
   "language": "bash",
   "name": "bash"
  },
  "language_info": {
   "codemirror_mode": "shell",
   "file_extension": ".sh",
   "mimetype": "text/x-sh",
   "name": "bash"
  }
 },
 "nbformat": 4,
 "nbformat_minor": 2
}
