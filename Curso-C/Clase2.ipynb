{
 "cells": [
  {
   "cell_type": "markdown",
   "metadata": {},
   "source": [
    "## 2. Introducción al Lenguaje C\n",
    "\n",
    "En este documento se introducen los elementos principales de la programación en lenguaje C (Creado entre 1970 y 1972 por Brian Kernighan y Dennis Ritchie para escribir el código del sistema operativo UNIX). Así como algunas funciones de las bibliotecas estándares.\n",
    "\n",
    "### 2.1 Bibliotecas Estándares\n",
    "\n",
    "* entrada y salida de datos **stdio.h**\n",
    "* manejo de cadenas **string.h**\n",
    "* memoria dinámica **stdlib.h**\n",
    "* rutinas matemáticas **math.h**\n",
    "\n",
    "### 2.2 Estructura de un Fichero Fuente\n",
    "\n",
    "```c\n",
    "#include <biblioteca1.h>\n",
    "#include <biblioteca2.h>\n",
    "\n",
    "//... declaraciones de funciones ... \n",
    "\n",
    "//... definiciones (cuerpos de funciones) ... \n",
    "//... declaraciones de variables globales ... \n",
    "\n",
    "void main()\n",
    "{\n",
    "    //... cuerpo del main ... \n",
    "}\n",
    "    \n",
    "//... otras definiciones de funciones ... \n",
    "\n",
    "```\n",
    "\n",
    "### 2.3 Comentarios\n",
    "\n",
    "Un comentario es una secuencia de caracteres que el compilador trata como un único carácter de espacio en blanco y se pasa por alto de cualquier otra manera. Estos deben estar encerrados entre una barra diagonal y un asterisco \n",
    "(/* cualquier texto */). \n",
    "Otra forma de expresarlos es comenzando con // y terminándolo con un salto de línea (comentario de una sola línea).\\\\\n",
    "No se pueden anidar comentarios (comentarios dentro de otros).\n",
    "\n",
    "```c\n",
    "#include <stdio.h>\n",
    "\n",
    "void main()\n",
    "{\n",
    "    /* Este es un comentario\n",
    "       de más de una línea\n",
    "    */\n",
    "\n",
    "    // este es un comentario de una línea\n",
    "    // este es otro comentario\n",
    "}\n",
    "```\n",
    "\n",
    "### 2.4 Un programa simple en C\n",
    "\n",
    "Para comenzar, imprimiremos la cadena \"Hola mundo\" en nuestra consola. Para ello, escribiremos nuestro código en un fichero que llamaremos **hola.c**:\n",
    "\n",
    "```c\n",
    "#include <stdio.h>\n",
    "\n",
    "int main()\n",
    "{\n",
    "    /* Escribe un mensaje */\n",
    "\n",
    "    printf(\"Hola mundo\");\n",
    "}\n",
    "```\n",
    "\n",
    "Para compilarlo se usa el compilador **gcc** desde el terminal:"
   ]
  },
  {
   "cell_type": "code",
   "execution_count": 1,
   "metadata": {
    "collapsed": false,
    "scrolled": true
   },
   "outputs": [],
   "source": [
    "gcc -o hola hola.c"
   ]
  },
  {
   "cell_type": "markdown",
   "metadata": {},
   "source": [
    "Ahora lo ejecutamos con el nombre asignado:"
   ]
  },
  {
   "cell_type": "code",
   "execution_count": 2,
   "metadata": {
    "collapsed": false
   },
   "outputs": [
    {
     "name": "stdout",
     "output_type": "stream",
     "text": [
      "Hola mundo"
     ]
    }
   ],
   "source": [
    "./hola"
   ]
  },
  {
   "cell_type": "markdown",
   "metadata": {},
   "source": [
    "### 2.5 Manipulación Básica de Datos\n",
    "\n",
    "#### 2.5.1 Secuencias de Escape\n",
    "\n",
    "Secuencia de Escape | Significado\n",
    "-- | --\n",
    "\\a | Sonido de alerta\n",
    "\\b | Retroceso\n",
    "\\f | Alimentación de hoja\n",
    "\\n | Nueva línea\n",
    "\\r | Retorno de carro\n",
    "\\t | Tabulador horizontal\n",
    "\\v | Tabulador vertical\n",
    "\\' | Comilla simple\n",
    "\\\" | Comilla doble\n",
    "\\\\\\ | Barra invertida\n",
    "\n",
    "#### 2.5.2 Tipos de Datos Básicos\n",
    "\n",
    "Datos escritos directamente.\n",
    "\n",
    "Nombre | Sintaxis | Descripción | Ejemplo\n",
    "-- | -- | -- | --\n",
    "Decimal | int | entero en base 10 | 127\n",
    "Flotante | float | número real | 2.78\n",
    "Caracter | char | caracter en ASCII | 'A'\n",
    "Cadena | char[] | cadena de caracteres | \"Hola\"\n",
    "\n",
    "#### 2.5.3 Tamaño de los Tipos de Datos Básicos\n",
    "\n",
    "Tipo | Tamaño (bytes)\n",
    "-- | --\n",
    "char, unsigned char | 1\n",
    "short int, unsigned short int | 2\n",
    "int, unsigned int, long int, unsigned long int, float | 4\n",
    "double | 8\n",
    "long double | 12\n",
    "\n",
    "#### 2.5.4 Operadores Aritméticos\n",
    "\n",
    "Operador | Nombre | Ejemplo\n",
    "-- | -- | --\n",
    "++ | Pre-incremento | ++a\n",
    "++ | Post-incremento | a++\n",
    "-- | Pre-decremento | --a\n",
    "-- | Post-decremento | a--\n",
    "- | Menos unario | -a\n",
    "* | Multiplicación | a*b\n",
    "/ | División | a/b\n",
    "\\% | Módulo | a%b\n",
    "+ | Suma | a+b\n",
    "- | Resta | a-b\n",
    "\n",
    "#### 2.5.5 Ejemplos\n",
    "\n",
    "* Ejemplo 1\n",
    "\n",
    "```c\n",
    "/* operadores.c*/\n",
    "#include <stdio.h>\n",
    "\n",
    "int main()\n",
    "{\n",
    "    int a=5;/* Declaración de un entero */\n",
    "\n",
    "    printf(\"%25s %5d\\n\",\"Pre-incremento\",++a);\n",
    "    printf(\"%25s %5d\\n\",\"Post-incremento\",a++);\n",
    "    printf(\"%25s %5d\\n\",\"Luego del Post-incremento\",a);\n",
    "    printf(\"%25s %5d\\n\",\"Menos unario\",-a);\n",
    "    printf(\"%25s %5d\\n\",\"Multiplicacion por dos\",a*2);\n",
    "    printf(\"%25s %5d\\n\",\"Division por dos\",a/2);\n",
    "    printf(\"%25s %5d\\n\",\"Modulo dos\",a%2);\n",
    "    printf(\"%25s %5d\\n\",\"Suma con tres\",a+3);\n",
    "    printf(\"%25s %5d\\n\",\"Resta con tres\",a-3);\n",
    "}\n",
    "```"
   ]
  },
  {
   "cell_type": "markdown",
   "metadata": {},
   "source": [
    "Compilar y ejecutar:"
   ]
  },
  {
   "cell_type": "code",
   "execution_count": 3,
   "metadata": {
    "collapsed": false
   },
   "outputs": [
    {
     "name": "stdout",
     "output_type": "stream",
     "text": [
      "           Pre-incremento     6\n",
      "          Post-incremento     6\n",
      "Luego del Post-incremento     7\n",
      "             Menos unario    -7\n",
      "   Multiplicacion por dos    14\n",
      "         Division por dos     3\n",
      "               Modulo dos     1\n",
      "            Suma con tres    10\n",
      "           Resta con tres     4\n"
     ]
    }
   ],
   "source": [
    "gcc -o operadores operadores.c\n",
    "./operadores"
   ]
  },
  {
   "cell_type": "markdown",
   "metadata": {
    "collapsed": false
   },
   "source": [
    "* Ejemplo 2\n",
    "\n",
    "```c\n",
    "/*argumentos.c*/\n",
    "/*Programa que recibe argumentos desde el terminal*/\n",
    "\n",
    "#include <stdio.h>\n",
    "\n",
    "int main(int argc, char const *argv[])\n",
    "{\n",
    "    printf(\"Ingreso %d argumentos y el segundo de estos es %s\\n\",argc,argv[1]);\n",
    "\n",
    "    return 0;\n",
    "}\n",
    "```\n",
    "\n",
    "Compilar y ejecutar:"
   ]
  },
  {
   "cell_type": "code",
   "execution_count": 4,
   "metadata": {
    "collapsed": false
   },
   "outputs": [
    {
     "name": "stdout",
     "output_type": "stream",
     "text": [
      "Ingreso 2 argumentos y el segundo de estos es Acecom\n"
     ]
    }
   ],
   "source": [
    "gcc -o argumentos argumentos.c\n",
    "./argumentos Acecom"
   ]
  },
  {
   "cell_type": "markdown",
   "metadata": {
    "collapsed": true
   },
   "source": [
    "* Ejemplo 3\n",
    "\n",
    "```c\n",
    "/*tercerlado.c*/\n",
    "/*Programa para calcular el lado de un triangulo\n",
    "usando la ley de cosenos*/\n",
    "\n",
    "#include <stdio.h>\n",
    "#include <math.h>\n",
    "\n",
    "#define PI 3.14\n",
    "\n",
    "int main(int argc, char const *argv[])\n",
    "{\n",
    "    float a, b, c;\n",
    "    float angle;\n",
    "\n",
    "    printf(\"Ingresa 2 lados y el angulo entre ellos:\\n\");\n",
    "    scanf(\"%f%f%f\",&a,&b,&angle);\n",
    "\n",
    "    c = sqrt(a*a + b*b - 2*a*b*cos(angle*PI/180));\n",
    "\n",
    "    printf(\"El tercer lado es %.5f\\n\", c);\n",
    "\n",
    "    return 0;\n",
    "}\n",
    "```\n",
    "\n",
    "Compilar y ejecutar:"
   ]
  },
  {
   "cell_type": "code",
   "execution_count": 5,
   "metadata": {
    "collapsed": false
   },
   "outputs": [
    {
     "name": "stdout",
     "output_type": "stream",
     "text": [
      "Ingresa 2 lados y el angulo entre ellos:\n",
      "El tercer lado es 4.99809\n"
     ]
    }
   ],
   "source": [
    "gcc -o tercerlado tercerlado.c -lm\n",
    "echo \"3 4 90\" | ./tercerlado"
   ]
  },
  {
   "cell_type": "markdown",
   "metadata": {
    "collapsed": false
   },
   "source": [
    "* Ejemplo 4\n",
    "\n",
    "```c\n",
    "/*logaritmo.c*/\n",
    "/*Programa que hace cambio de base con logaritmos*/\n",
    "\n",
    "#include <stdio.h>\n",
    "#include <math.h>\n",
    "\n",
    "int main(int argc, char const *argv[])\n",
    "{\n",
    "\tfloat base , x;\n",
    "\tfloat log;\n",
    "\n",
    "\tprintf(\"Ingresar el numero y la base:\\n\");\n",
    "\tscanf(\"%f%f\",&x,&base);\t\n",
    "\tlog = log10(x) / log10(base);\n",
    "\n",
    "\tprintf(\"El logaritmo de %f en base %f es %f \\n\",x,base,log);\n",
    "\t\n",
    "\treturn 0;\n",
    "}\n",
    "```\n",
    "\n",
    "Compilar y ejecutar:"
   ]
  },
  {
   "cell_type": "code",
   "execution_count": 6,
   "metadata": {
    "collapsed": false
   },
   "outputs": [
    {
     "name": "stdout",
     "output_type": "stream",
     "text": [
      "Ingresar el numero y la base:\n",
      "El logaritmo de 81.000000 en base 9.000000 es 2.000000 \n"
     ]
    }
   ],
   "source": [
    "gcc -o logaritmo logaritmo.c -lm\n",
    "echo \"81 9\" | ./logaritmo"
   ]
  },
  {
   "cell_type": "markdown",
   "metadata": {},
   "source": [
    "* Ejemplo 5\n",
    "\n",
    "```c\n",
    "/*norma.c*/\n",
    "/*Programa que calcula la norma de un vector*/\n",
    "\n",
    "#include <stdio.h>\n",
    "#include <math.h>\n",
    "\n",
    "int main(int argc, char const *argv[])\n",
    "{\n",
    "\n",
    "    float x , y ; \n",
    "    float norm;\n",
    "\n",
    "    printf(\"Ingresar x e y :\\n\");\n",
    "    scanf(\"%f%f\",&x,&y);\n",
    "    norm = sqrt(x*x + y*y);\n",
    "\n",
    "    printf(\"La norma del vector es %.3f\\n\", norm); \n",
    "\n",
    "    return 0;\n",
    "}\n",
    "```\n",
    "\n",
    "Compilar y ejecutar:"
   ]
  },
  {
   "cell_type": "code",
   "execution_count": 7,
   "metadata": {
    "collapsed": false
   },
   "outputs": [
    {
     "name": "stdout",
     "output_type": "stream",
     "text": [
      "Ingresar x e y :\n",
      "La norma del vector es 5.000\n"
     ]
    }
   ],
   "source": [
    "gcc -o norma norma.c -lm\n",
    "echo \"3 4\" | ./norma"
   ]
  }
 ],
 "metadata": {
  "anaconda-cloud": {},
  "kernelspec": {
   "display_name": "Bash",
   "language": "bash",
   "name": "bash"
  },
  "language_info": {
   "codemirror_mode": "shell",
   "file_extension": ".sh",
   "mimetype": "text/x-sh",
   "name": "bash"
  }
 },
 "nbformat": 4,
 "nbformat_minor": 2
}
